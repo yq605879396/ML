{
 "cells": [
  {
   "cell_type": "markdown",
   "metadata": {},
   "source": [
    "# Using the K-NN algorithm for classification of iris\n",
    "\n",
    "In this assigment, you will classify if an Iris is 'Iris Setosa' or 'Iris Versicolour' or 'Iris Virginica' using the k nearest neighbor algorithm.\n",
    "\n",
    "The training data is from the UCI Machine Learning Repository: https://archive.ics.uci.edu/ml/datasets/iris.  Please download the dataset before running the code below. "
   ]
  },
  {
   "cell_type": "markdown",
   "metadata": {},
   "source": [
    "## Step 1:  Getting, understanding, and cleaning the dataset\n"
   ]
  },
  {
   "cell_type": "markdown",
   "metadata": {},
   "source": [
    "###  Importing the dataset\n"
   ]
  },
  {
   "cell_type": "code",
   "execution_count": 1,
   "metadata": {},
   "outputs": [
    {
     "data": {
      "text/html": [
       "<div>\n",
       "<style scoped>\n",
       "    .dataframe tbody tr th:only-of-type {\n",
       "        vertical-align: middle;\n",
       "    }\n",
       "\n",
       "    .dataframe tbody tr th {\n",
       "        vertical-align: top;\n",
       "    }\n",
       "\n",
       "    .dataframe thead th {\n",
       "        text-align: right;\n",
       "    }\n",
       "</style>\n",
       "<table border=\"1\" class=\"dataframe\">\n",
       "  <thead>\n",
       "    <tr style=\"text-align: right;\">\n",
       "      <th></th>\n",
       "      <th>sepal length[cm]</th>\n",
       "      <th>sepal width[cm]</th>\n",
       "      <th>petal length[cm]</th>\n",
       "      <th>petal width</th>\n",
       "      <th>label</th>\n",
       "    </tr>\n",
       "  </thead>\n",
       "  <tbody>\n",
       "    <tr>\n",
       "      <td>0</td>\n",
       "      <td>5.1</td>\n",
       "      <td>3.5</td>\n",
       "      <td>1.4</td>\n",
       "      <td>0.2</td>\n",
       "      <td>Iris-setosa</td>\n",
       "    </tr>\n",
       "    <tr>\n",
       "      <td>1</td>\n",
       "      <td>4.9</td>\n",
       "      <td>3.0</td>\n",
       "      <td>1.4</td>\n",
       "      <td>0.2</td>\n",
       "      <td>Iris-setosa</td>\n",
       "    </tr>\n",
       "    <tr>\n",
       "      <td>2</td>\n",
       "      <td>4.7</td>\n",
       "      <td>3.2</td>\n",
       "      <td>1.3</td>\n",
       "      <td>0.2</td>\n",
       "      <td>Iris-setosa</td>\n",
       "    </tr>\n",
       "    <tr>\n",
       "      <td>3</td>\n",
       "      <td>4.6</td>\n",
       "      <td>3.1</td>\n",
       "      <td>1.5</td>\n",
       "      <td>0.2</td>\n",
       "      <td>Iris-setosa</td>\n",
       "    </tr>\n",
       "    <tr>\n",
       "      <td>4</td>\n",
       "      <td>5.0</td>\n",
       "      <td>3.6</td>\n",
       "      <td>1.4</td>\n",
       "      <td>0.2</td>\n",
       "      <td>Iris-setosa</td>\n",
       "    </tr>\n",
       "  </tbody>\n",
       "</table>\n",
       "</div>"
      ],
      "text/plain": [
       "   sepal length[cm]  sepal width[cm]  petal length[cm]  petal width  \\\n",
       "0               5.1              3.5               1.4          0.2   \n",
       "1               4.9              3.0               1.4          0.2   \n",
       "2               4.7              3.2               1.3          0.2   \n",
       "3               4.6              3.1               1.5          0.2   \n",
       "4               5.0              3.6               1.4          0.2   \n",
       "\n",
       "         label  \n",
       "0  Iris-setosa  \n",
       "1  Iris-setosa  \n",
       "2  Iris-setosa  \n",
       "3  Iris-setosa  \n",
       "4  Iris-setosa  "
      ]
     },
     "execution_count": 1,
     "metadata": {},
     "output_type": "execute_result"
    }
   ],
   "source": [
    "# Import the usual libraries\n",
    "import matplotlib.pyplot as plt # plotting utilities \n",
    "%matplotlib inline\n",
    "import numpy as np \n",
    "import pandas as pd  # To read in the dataset we will use the Panda's library\n",
    "df = pd.read_csv('iris.csv', header=None, names = [\"sepal length[cm]\",\"sepal width[cm]\",\"petal length[cm]\", \"petal width\", \"label\"])\n",
    "\n",
    "# Next we observe the first 5 rows of the data to ensure everything was read correctly\n",
    "df.head()"
   ]
  },
  {
   "cell_type": "markdown",
   "metadata": {},
   "source": [
    "### Data preprocesssing\n",
    "It would be more convenient if the labels were integers instead of 'Iris-setosa', 'Iris-versicolor' and 'Iris-virginica'.  This way our code can always work with numerical values instead of strings."
   ]
  },
  {
   "cell_type": "code",
   "execution_count": 2,
   "metadata": {},
   "outputs": [
    {
     "data": {
      "text/html": [
       "<div>\n",
       "<style scoped>\n",
       "    .dataframe tbody tr th:only-of-type {\n",
       "        vertical-align: middle;\n",
       "    }\n",
       "\n",
       "    .dataframe tbody tr th {\n",
       "        vertical-align: top;\n",
       "    }\n",
       "\n",
       "    .dataframe thead th {\n",
       "        text-align: right;\n",
       "    }\n",
       "</style>\n",
       "<table border=\"1\" class=\"dataframe\">\n",
       "  <thead>\n",
       "    <tr style=\"text-align: right;\">\n",
       "      <th></th>\n",
       "      <th>sepal length[cm]</th>\n",
       "      <th>sepal width[cm]</th>\n",
       "      <th>petal length[cm]</th>\n",
       "      <th>petal width</th>\n",
       "      <th>label</th>\n",
       "    </tr>\n",
       "  </thead>\n",
       "  <tbody>\n",
       "    <tr>\n",
       "      <td>0</td>\n",
       "      <td>5.1</td>\n",
       "      <td>3.5</td>\n",
       "      <td>1.4</td>\n",
       "      <td>0.2</td>\n",
       "      <td>0</td>\n",
       "    </tr>\n",
       "    <tr>\n",
       "      <td>1</td>\n",
       "      <td>4.9</td>\n",
       "      <td>3.0</td>\n",
       "      <td>1.4</td>\n",
       "      <td>0.2</td>\n",
       "      <td>0</td>\n",
       "    </tr>\n",
       "    <tr>\n",
       "      <td>2</td>\n",
       "      <td>4.7</td>\n",
       "      <td>3.2</td>\n",
       "      <td>1.3</td>\n",
       "      <td>0.2</td>\n",
       "      <td>0</td>\n",
       "    </tr>\n",
       "    <tr>\n",
       "      <td>3</td>\n",
       "      <td>4.6</td>\n",
       "      <td>3.1</td>\n",
       "      <td>1.5</td>\n",
       "      <td>0.2</td>\n",
       "      <td>0</td>\n",
       "    </tr>\n",
       "    <tr>\n",
       "      <td>4</td>\n",
       "      <td>5.0</td>\n",
       "      <td>3.6</td>\n",
       "      <td>1.4</td>\n",
       "      <td>0.2</td>\n",
       "      <td>0</td>\n",
       "    </tr>\n",
       "  </tbody>\n",
       "</table>\n",
       "</div>"
      ],
      "text/plain": [
       "   sepal length[cm]  sepal width[cm]  petal length[cm]  petal width  label\n",
       "0               5.1              3.5               1.4          0.2      0\n",
       "1               4.9              3.0               1.4          0.2      0\n",
       "2               4.7              3.2               1.3          0.2      0\n",
       "3               4.6              3.1               1.5          0.2      0\n",
       "4               5.0              3.6               1.4          0.2      0"
      ]
     },
     "execution_count": 2,
     "metadata": {},
     "output_type": "execute_result"
    }
   ],
   "source": [
    "df['label'] = df.label.map({'Iris-setosa': 0,\n",
    "              'Iris-versicolor': 1,\n",
    "              'Iris-virginica': 2})\n",
    "df.head()# Again, lets observe the first 5 rows to make sure everything worked before we continue"
   ]
  },
  {
   "cell_type": "code",
   "execution_count": 3,
   "metadata": {},
   "outputs": [
    {
     "name": "stdout",
     "output_type": "stream",
     "text": [
      "The number of training examples:  112\n",
      "The number of test exampels:  38\n",
      "The first four training labels\n",
      "[1 1 2 0]\n",
      "The first four iris' measurements\n",
      "[[5.8 2.4]\n",
      " [6.  1. ]\n",
      " [5.5 0.2]\n",
      " [7.3 1.8]]\n"
     ]
    }
   ],
   "source": [
    "# This time we will use sklearn's method for seperating the data\n",
    "from sklearn.model_selection import train_test_split\n",
    "names = [\"sepal length[cm]\",\"petal width\"]\n",
    "#After completing the assignment, try your code with all the features\n",
    "#names = [\"sepal length[cm]\",\"sepal width[cm]\",\"petal length[cm]\", \"petal width\"]\n",
    "df_X_train, df_X_test, df_y_train, df_y_test = train_test_split(df[names],df['label'], random_state=0)\n",
    "\n",
    "X_train=df_X_train.to_numpy()\n",
    "X_test=df_X_test.to_numpy()\n",
    "y_train=df_y_train.to_numpy()\n",
    "y_test=df_y_test.to_numpy()\n",
    "\n",
    "#Looking at the train/test split\n",
    "print(\"The number of training examples: \", X_train.shape[0])\n",
    "print(\"The number of test exampels: \", X_test.shape[0])\n",
    "\n",
    "print(\"The first four training labels\")\n",
    "print(y_train[0:4])\n",
    "\n",
    "print(\"The first four iris' measurements\")\n",
    "print(X_test[0:4])"
   ]
  },
  {
   "cell_type": "markdown",
   "metadata": {},
   "source": [
    "## visualizing the data set\n",
    "\n",
    "Using a scatter plot to visualize the dataset"
   ]
  },
  {
   "cell_type": "code",
   "execution_count": 4,
   "metadata": {},
   "outputs": [
    {
     "data": {
      "image/png": "[encoded data removed]",
      "text/plain": [
       "<Figure size 432x288 with 1 Axes>"
      ]
     },
     "metadata": {
      "needs_background": "light"
     },
     "output_type": "display_data"
    }
   ],
   "source": [
    "iris_names=['Iris-setosa','Iris-versicolor','Iris-virginica']\n",
    "for i in range(0,3):\n",
    "    plt.scatter(X_train[y_train == i, 0],\n",
    "                X_train[y_train == i, 1],\n",
    "            marker='o',\n",
    "            label='class '+ str(i)+ ' '+ iris_names[i])\n",
    "    plt.scatter(X_test[y_test == i, 0],\n",
    "                X_test[y_test == i, 1],\n",
    "            marker='+',\n",
    "            label='class '+ str(i)+ ' '+ iris_names[i])\n",
    "\n",
    "# plt.xlabel('sepal width[cm]')\n",
    "# plt.ylabel('petal length[cm]') // wrong name\n",
    "plt.xlabel('sepal length[cm]')\n",
    "plt.ylabel('petal width[cm]')\n",
    "plt.legend(loc='lower right')\n",
    "\n",
    "plt.show()"
   ]
  },
  {
   "cell_type": "markdown",
   "metadata": {},
   "source": [
    "# Your code goes here"
   ]
  },
  {
   "cell_type": "code",
   "execution_count": 5,
   "metadata": {},
   "outputs": [],
   "source": [
    "def euclidean_distance(x1, x2):\n",
    "  #### TO-DO #####          \n",
    "    return np.sqrt((x1[0]-x2[0])**2 + (x1[1]-x2[1])**2) \n",
    "  ##############\n",
    "    \n",
    "def manhattan_distance(x1, x2):\n",
    "    return (x1[0]-x2[0]) + (x1[1]-x2[1])\n",
    "\n",
    "def cosine_distance(x1, x2):\n",
    "    return (x1[0]*x2[0]+x1[1]*x2[1])/(np.sqrt(x1[0]**2+x1[1]**2)*np.sqrt(x2[0]**2+x2[1]**2))"
   ]
  },
  {
   "cell_type": "code",
   "execution_count": 20,
   "metadata": {},
   "outputs": [],
   "source": [
    "def get_neighbors( X, y, x_test, k, distance=euclidean_distance):\n",
    "  #### TO-DO #####  \n",
    "    dis = []\n",
    "    \n",
    "    for i in range(len(y)):\n",
    "        dis.append([i, distance(X[i], x_test), int(y[i])])\n",
    "    \n",
    "    # sort the distances from smallest to largest\n",
    "    # add index of X_train, in order to solve a case as: \n",
    "    # if 2 points have the same distances with test point, I will choose the smaller index one\n",
    "    dis.sort(key=lambda dis:dis[1])\n",
    "    \n",
    "    neighbors = dis[:k]\n",
    "  ##############\n",
    "    return neighbors"
   ]
  },
  {
   "cell_type": "code",
   "execution_count": 7,
   "metadata": {},
   "outputs": [],
   "source": [
    "def predict(neighbors):\n",
    "    labels = list(np.array(neighbors)[:,2])\n",
    "    label = -1\n",
    "    max_count = 0\n",
    "    for l in labels:\n",
    "        if labels.count(l) > max_count:\n",
    "            max_count = labels.count(l)\n",
    "            label = l\n",
    "    return label"
   ]
  },
  {
   "cell_type": "code",
   "execution_count": 21,
   "metadata": {},
   "outputs": [
    {
     "name": "stdout",
     "output_type": "stream",
     "text": [
      "when k = 5, the 11 test data is wrong\n",
      "when k = 5, the 38 test data is wrong\n",
      "when k = 5, the accuracy is 0.9473684210526315\n"
     ]
    }
   ],
   "source": [
    "#### TO-DO #####\n",
    "k = 5 # the value for k\n",
    "y_pre = []\n",
    "for x_test in X_test:\n",
    "    neighbors = get_neighbors(X_train, y_train, x_test, k, distance=euclidean_distance)\n",
    "    label = predict(neighbors)\n",
    "    y_pre.append(label)\n",
    "\n",
    "\n",
    "for i, label in enumerate(y_pre):\n",
    "    if label != y_test[i]:\n",
    "        print(\"when k = {}, the {} test data is wrong\".format(k, i+1))\n",
    "\n",
    "# calculate the accuracy\n",
    "acc = 0.0\n",
    "for pre, test in zip(y_pre, y_test):\n",
    "    acc = acc + 1.0 if pre == test else acc\n",
    "acc = acc/y_test.size\n",
    "\n",
    "print(\"when k = {}, the accuracy is {}\".format(k, acc))"
   ]
  },
  {
   "cell_type": "code",
   "execution_count": 26,
   "metadata": {},
   "outputs": [
    {
     "name": "stdout",
     "output_type": "stream",
     "text": [
      "The most common class is 2\n",
      "when using zero-R, the accuracy is 0.23684210526315788\n"
     ]
    }
   ],
   "source": [
    "# zero-R\n",
    "label_counts = []\n",
    "for i in range(len(set(y_test))):\n",
    "    label_counts.append(np.sum(y_train == i))\n",
    "most_label = np.argmax(label_counts) # get the index of the most common class\n",
    "print(\"The most common class is {}\".format(most_label))\n",
    "# predict all the test dataset as the most common class\n",
    "y_pre_zeroR = [most_label for _ in range(y_test.size)]\n",
    "\n",
    "# calculate the accuracy\n",
    "acc_zeroR = 0.0\n",
    "for pre, test in zip(y_pre_zeroR, y_test):\n",
    "    acc_zeroR = acc_zeroR + 1.0 if pre == test else acc_zeroR\n",
    "acc_zeroR = acc_zeroR/y_test.size\n",
    "print(\"when using zero-R, the accuracy is {}\".format(acc_zeroR))"
   ]
  },
  {
   "cell_type": "code",
   "execution_count": 33,
   "metadata": {},
   "outputs": [
    {
     "name": "stdout",
     "output_type": "stream",
     "text": [
      "when k = 5, the accuracy is 0.9473684210526315\n"
     ]
    }
   ],
   "source": [
    "# try manhattan_distance\n",
    "k = 5 # the value for k\n",
    "y_pre = []\n",
    "for x_test in X_test:\n",
    "    neighbors = get_neighbors(X_train, y_train, x_test, k, distance=euclidean_distance)\n",
    "    label = predict(neighbors)\n",
    "    y_pre.append(label)\n",
    "\n",
    "# calculate the accuracy\n",
    "acc = 0.0\n",
    "for pre, test in zip(y_pre, y_test):\n",
    "    acc = acc + 1.0 if pre == test else acc\n",
    "acc = acc/y_test.size\n",
    "\n",
    "print(\"when k = {}, the accuracy is {}\".format(k, acc))"
   ]
  },
  {
   "cell_type": "code",
   "execution_count": 31,
   "metadata": {},
   "outputs": [
    {
     "name": "stdout",
     "output_type": "stream",
     "text": [
      "when k = 5, the accuracy is 0.9473684210526315\n"
     ]
    }
   ],
   "source": [
    "# try cosine_distance\n",
    "k =  # the value for k\n",
    "y_pre = []\n",
    "for x_test in X_test:\n",
    "    neighbors = get_neighbors(X_train, y_train, x_test, k, distance=euclidean_distance)\n",
    "    label = predict(neighbors)\n",
    "    y_pre.append(label)\n",
    "\n",
    "# calculate the accuracy\n",
    "acc = 0.0\n",
    "for pre, test in zip(y_pre, y_test):\n",
    "    acc = acc + 1.0 if pre == test else acc\n",
    "acc = acc/y_test.size\n",
    "\n",
    "print(\"when k = {}, the accuracy is {}\".format(k, acc))"
   ]
  },
  {
   "cell_type": "code",
   "execution_count": 35,
   "metadata": {},
   "outputs": [
    {
     "name": "stdout",
     "output_type": "stream",
     "text": [
      "The cross-validation accuracy for k=3 is 0.9284584980237154\n",
      "The cross-validation accuracy for k=7 is 0.9466403162055336\n",
      "The cross-validation accuracy for k=99 is 0.18814229249011855\n",
      "When using euclidean distance, the best k should be 7, with the accuracy of 0.9466403162055336\n"
     ]
    }
   ],
   "source": [
    "# 5-fold cross-validation\n",
    "ks = [3, 7, 99]\n",
    "cross_acc = []\n",
    "for k in ks:\n",
    "    all_acc = []\n",
    "    for i in range(5):\n",
    "        X_train_split = np.concatenate((X_train[:int(i*y_train.size/5)], X_train[int((i+1)*y_train.size/5):]), axis=0)\n",
    "        y_train_split = np.concatenate((y_train[:int(i*y_train.size/5)], y_train[int((i+1)*y_train.size/5):]), axis=0)\n",
    "        \n",
    "        X_test_split = X_train[int(i*y_train.size/5):int((i+1)*y_train.size/5)]\n",
    "        y_test_split = y_train[int(i*y_train.size/5):int((i+1)*y_train.size/5)]\n",
    "        \n",
    "        y_pre = []\n",
    "        for x_test in X_test_split:\n",
    "            neighbors = get_neighbors(X_train_split, y_train_split, x_test, k, distance=euclidean_distance)\n",
    "            label = predict(neighbors)\n",
    "            y_pre.append(label)\n",
    "\n",
    "        # calculate the accuracy\n",
    "        acc = 0.0\n",
    "        for pre, test in zip(y_pre, y_test_split):\n",
    "            acc = acc + 1.0 if pre == test else acc\n",
    "        acc = acc/y_test_split.size\n",
    "        all_acc.append(acc)\n",
    "    cross_acc.append(np.mean(all_acc))\n",
    "    \n",
    "    print(\"The cross-validation accuracy for k={} is {}\".format(k, np.mean(all_acc)))\n",
    "# cross_acc = np.array(cross_acc)\n",
    "best_k = ks[np.argmax(cross_acc)]\n",
    "best_acc = cross_acc[np.argmax(cross_acc)]\n",
    "print(\"When using euclidean distance, the best k should be {}, with the accuracy of {}\".format(best_k, best_acc))"
   ]
  }
 ],
 "metadata": {
  "kernelspec": {
   "display_name": "Python 3",
   "language": "python",
   "name": "python3"
  },
  "language_info": {
   "codemirror_mode": {
    "name": "ipython",
    "version": 3
   },
   "file_extension": ".py",
   "mimetype": "text/x-python",
   "name": "python",
   "nbconvert_exporter": "python",
   "pygments_lexer": "ipython3",
   "version": "3.7.1"
  }
 },
 "nbformat": 4,
 "nbformat_minor": 2
}
